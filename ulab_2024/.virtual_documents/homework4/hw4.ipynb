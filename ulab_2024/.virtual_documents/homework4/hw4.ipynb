





# Your comments here








# Your code here





# Your thinking process and description here





# Your code here





# Your thinking process and response here





# Your code here





# Your thinking process and description here





# Your code here








# Your code here





# Your code here





# Your code here





# Your comment here
