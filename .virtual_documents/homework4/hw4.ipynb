





# SyntaxError: unmatched ')' - Mistake in code that prevents it from functioning properly. I fixed it by adding a matching "(."
# SyntaxError: expected ':' - Mistake in code that prevents it from functioning properly. I forgot to add ":" following "if" and "else" and fixed it by adding them.
# SyntaxError: invalid character '×' (U+00D7) - Code mistakes that prevent it from functioning properly. Instead of "*," I used "x," and fixed it by making it the correct operator.








def arithmetic_operations(a, b):
    # Displays a list showing a and b with multiple math operators. 
    # Addition, subtraction, multiplication, several types of division, and powers. 
    list = [a+b, a-b, a*b, a/b, a//b, a%b, a**b]
    return list

num_1 = 10
num_2 = 3 
operations = arithmetic_operations(num_1, num_2)
print(operations)





# I knew that the function had to return a list or tuple, so I made sure it returned one. I also knew it had to display several different answers to math operators, so I included each one in the list. The function also displays a good function writing processes as everything is organized, variables names make sense, and there is an explanation for the function.





def increment_and_multiply(num):
    # Adds 5 to umber then multiplies by 3. 
    # Sum = (Number + 5) * 3
    num = (num + 5 ) * 3
    return num

num = 10
print(increment_and_multiply(num))





# Increment by 5 meant adding by 5, so I set the inputed number to equal the inputed number + 5. Then it said it would be multiplied by 3, so I multiplied the sum of the inputed number + 3 by * 5.





def is_in_range(x, low, high):
    # Check to see if x is between low and high and returns true or false depending if it is or not.
    if low < x < high:
        return True
    else:
        return False

print(is_in_range(5, 1, 10))
print(is_in_range(15, 1, 10))





# Your thinking process and description here





def making_sentences(a, b, c, d, e):
    # Adds individual words together to create a sentence. 
    sentence = a + " " + b + " " + c + " " + d + " " + e + "!"
    return sentence

a = "Here"
b = "is"
c = "your"
d = "iced"
e = "latte"

my_fav_sentence = making_sentences(a, b, c, d, e)
print(my_fav_sentence)








def celciusFahrenheit(celcius):
    # Converts celcius to fahrenheit. 
    # (°C × 9/5) + 32 = °F
    fahrenheit = (celcius * 9/5) + 32
    return fahrenheit 

def celciusKelvin(celcius):
    # Converts celcius to kelvin.
    # °C + 273.15 = K
    kelvin = celcius + 273.15
    return kelvin

print(celciusFahrenheit(232.778))
print(celciusKelvin(100))





def my_function(celcius):
    # Takes celcius and calls the two functions above to convert it into fahrenheit and kelvin.
    # SCREAMING_SNAKE_CASE syntax was not used and did not apply here because I used camelCase in the previous problem, which was not necessary for this problem.
    fahrenheit = celciusFahrenheit(celcius)
    kelvin = celciusKelvin(celcius)
    return (fahrenheit, kelvin)

print(my_function(232.778))





def nameDictionary(name):
    # Takes a name and makes it into a dictionary, displaying the name, the length of the name, and the first letter of a name.
    nameList = {}
    nameList['name'] = name
    nameList['length'] = len(name)
    nameList['firstletter'] = name[0]
    return nameList

print(nameDictionary("Mackaelan"))    





# None.
